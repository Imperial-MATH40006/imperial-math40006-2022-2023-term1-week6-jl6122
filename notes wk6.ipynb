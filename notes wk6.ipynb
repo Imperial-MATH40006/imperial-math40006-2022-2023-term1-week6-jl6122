{
 "cells": [
  {
   "cell_type": "markdown",
   "id": "1f682bfb",
   "metadata": {},
   "source": [
    "# strings - basics"
   ]
  },
  {
   "cell_type": "code",
   "execution_count": 14,
   "id": "ed80080e",
   "metadata": {},
   "outputs": [
    {
     "name": "stdout",
     "output_type": "stream",
     "text": [
      "1: potatotomato\n",
      "2: o\n",
      "3: toma\n",
      "4: ptt\n",
      "5: 6\n",
      "6: \n",
      "['p', 'tat', '']\n",
      "7: \n",
      "<class 'str'>\n",
      "potato\n",
      "8: pomegranate\n"
     ]
    }
   ],
   "source": [
    "#string = sequence of char\n",
    "string1='potato'\n",
    "string2=\"tomato\"\n",
    "print(\"1: \"+string1+string2)\n",
    "\n",
    "print(\"2: \"+string1[1]) #character of index 1 - starts from 0\n",
    "\n",
    "print(\"3: \"+string2[0:4]) #slicing into substrings\n",
    "#index greater/equal to 0, strictly less than 4\n",
    "\n",
    "print(\"4: \"+string1[0:6:2])#every second char betw index 0 and 6\n",
    "\n",
    "print(\"5: \"+ str(len(string1)))\n",
    "\n",
    "splitstrings = string1.split('o') #split, len are methods\n",
    "print(\"6: \")\n",
    "print(splitstrings) #out puts a list of substrings\n",
    "\n",
    "joinstrings='o'.join(splitstrings)\n",
    "print(\"7: \")\n",
    "print(type(joinstrings))\n",
    "print(joinstrings)\n",
    "\n",
    "print(\"8: \"+string1.replace('tato', 'megranate'))\n",
    "\n",
    "#string1.lower(), string1.upper()"
   ]
  },
  {
   "cell_type": "markdown",
   "id": "24522c91",
   "metadata": {},
   "source": [
    "# string formatting"
   ]
  },
  {
   "cell_type": "code",
   "execution_count": 15,
   "id": "6523c063",
   "metadata": {},
   "outputs": [
    {
     "name": "stdout",
     "output_type": "stream",
     "text": [
      "my favourite bagel filling is avocado and cream cheese\n"
     ]
    }
   ],
   "source": [
    "template = 'my favourite bagel filling is {} and {}'\n",
    "print(template.format('avocado', 'cream cheese'))"
   ]
  },
  {
   "cell_type": "code",
   "execution_count": 16,
   "id": "ad5762d8",
   "metadata": {},
   "outputs": [
    {
     "data": {
      "text/plain": [
       "'The maximum of 61, 44 and 37 is 61.'"
      ]
     },
     "execution_count": 16,
     "metadata": {},
     "output_type": "execute_result"
    }
   ],
   "source": [
    "from random import randint\n",
    "a= randint(1,100)\n",
    "b = randint(1,100)\n",
    "c = randint(1,100)\n",
    "'The maximum of {}, {} and {} is {}.'.format(a,b,c,max(a,b,c))"
   ]
  },
  {
   "cell_type": "code",
   "execution_count": 17,
   "id": "3e356d42",
   "metadata": {},
   "outputs": [
    {
     "data": {
      "text/plain": [
       "'The maximum of 98, 26 and 22 is 98.'"
      ]
     },
     "execution_count": 17,
     "metadata": {},
     "output_type": "execute_result"
    }
   ],
   "source": [
    "#formatted string literal or f-string\n",
    "from random import randint\n",
    "a = randint(1,100)\n",
    "b = randint(1,100)\n",
    "c = randint(1,100)\n",
    "f'The maximum of {a}, {b} and {c} is {max(a,b,c)}.'"
   ]
  },
  {
   "cell_type": "markdown",
   "id": "7ad1cf7a",
   "metadata": {},
   "source": [
    "# lists"
   ]
  },
  {
   "cell_type": "code",
   "execution_count": 2,
   "id": "70f7a1a9",
   "metadata": {},
   "outputs": [
    {
     "name": "stdout",
     "output_type": "stream",
     "text": [
      "[1, 2, 3, 4, 5, 'one', 'two', 'three', 'four', 'five']\n",
      "[[1, 2, 3, 4, 5, 'one', 'two', 'three', 'four', 'five', 1, 2, 3, 4, 5, 'one', 'two', 'three', 'four', 'five']]\n"
     ]
    },
    {
     "data": {
      "text/plain": [
       "2"
      ]
     },
     "execution_count": 2,
     "metadata": {},
     "output_type": "execute_result"
    }
   ],
   "source": [
    "#list = sequence of anything\n",
    "list1 = [1, 2, 3, 4, 5]\n",
    "list2 = ['one', 'two', 'three', 'four', 'five']\n",
    "list3=list1+list2\n",
    "print(list3)\n",
    "list4=[list1+list2+list3]\n",
    "print(list4)\n",
    "list1[1] # index"
   ]
  },
  {
   "cell_type": "code",
   "execution_count": 24,
   "id": "75992031",
   "metadata": {},
   "outputs": [
    {
     "data": {
      "text/plain": [
       "[1, 2, 3, 4, 5, 'one', 'two']"
      ]
     },
     "execution_count": 24,
     "metadata": {},
     "output_type": "execute_result"
    }
   ],
   "source": [
    "list3[0:7]"
   ]
  },
  {
   "cell_type": "code",
   "execution_count": 25,
   "id": "e63a0f33",
   "metadata": {},
   "outputs": [
    {
     "data": {
      "text/plain": [
       "[1, 3, 5, 'two']"
      ]
     },
     "execution_count": 25,
     "metadata": {},
     "output_type": "execute_result"
    }
   ],
   "source": [
    "list3[0:7:2]"
   ]
  },
  {
   "cell_type": "code",
   "execution_count": 3,
   "id": "f46cca4d",
   "metadata": {},
   "outputs": [
    {
     "data": {
      "text/plain": [
       "[1, 2, 3, 4, 5, 'six']"
      ]
     },
     "execution_count": 3,
     "metadata": {},
     "output_type": "execute_result"
    }
   ],
   "source": [
    "list1.append('six') #adds new element to the list\n",
    "list1"
   ]
  },
  {
   "cell_type": "code",
   "execution_count": 4,
   "id": "8cb1cfbd",
   "metadata": {},
   "outputs": [
    {
     "data": {
      "text/plain": [
       "[0, 1, 2, 3, 4, 5]"
      ]
     },
     "execution_count": 4,
     "metadata": {},
     "output_type": "execute_result"
    }
   ],
   "source": [
    "list5=list(range(6)) #equally spaced ints\n",
    "list5"
   ]
  },
  {
   "cell_type": "markdown",
   "id": "04ca8a80",
   "metadata": {},
   "source": [
    "# tuples + immutability"
   ]
  },
  {
   "cell_type": "code",
   "execution_count": 6,
   "id": "d72979cd",
   "metadata": {},
   "outputs": [
    {
     "name": "stdout",
     "output_type": "stream",
     "text": [
      "[0, 'one', 2.0, (3+0j), 'IV']\n",
      "(0, 'one', 2.0, (3+0j), 'IV')\n",
      "(3+0j)\n",
      "(3+0j)\n",
      "[0, 2.0, 'IV']\n",
      "(0, 2.0, 'IV')\n"
     ]
    }
   ],
   "source": [
    "list1=[0, 'one', 2.0, (3+0j), 'IV']\n",
    "tuple1 = (0, 'one', 2.0, (3+0j), 'IV')\n",
    "print(list1)\n",
    "print(tuple1)\n",
    "print(list1[3])\n",
    "print(tuple1[3])\n",
    "print(list1[0:5:2])\n",
    "print(tuple1[0:5:2])"
   ]
  },
  {
   "cell_type": "code",
   "execution_count": 7,
   "id": "c3c24ba1",
   "metadata": {},
   "outputs": [
    {
     "name": "stdout",
     "output_type": "stream",
     "text": [
      "[0, 'one', 2.0, (3+0j), 'IV', 'cinq']\n",
      "(0, 'one', 2.0, (3+0j), 'IV', 'cinq')\n"
     ]
    }
   ],
   "source": [
    "list1.append('cinq')\n",
    "print(list1)\n",
    "tuple1=tuple1+('cinq',) #can't append to tuples\n",
    "#note the comma even if its a tuple containing a single element\n",
    "print(tuple1)"
   ]
  },
  {
   "cell_type": "code",
   "execution_count": 1,
   "id": "fb9b90ff",
   "metadata": {},
   "outputs": [
    {
     "name": "stdout",
     "output_type": "stream",
     "text": [
      "(0, 'one', 2.0, (3+0j), 'IV', 'cinq')\n"
     ]
    }
   ],
   "source": [
    "#converting tuple to list and back\n",
    "tuple1 = (0, 'one', 2.0, (3+0j), 'IV')\n",
    "temp_list=list(tuple1)\n",
    "temp_list.append('cinq')\n",
    "tuple1=tuple(temp_list)\n",
    "print(tuple1)"
   ]
  },
  {
   "cell_type": "code",
   "execution_count": 3,
   "id": "88dd26c6",
   "metadata": {},
   "outputs": [
    {
     "name": "stdout",
     "output_type": "stream",
     "text": [
      "[0, 'one', 2.0, (3+0j), 'IV', 'vijf']\n"
     ]
    }
   ],
   "source": [
    "list1= [0, 'one', 2.0, (3+0j), 'IV', 'cinq']\n",
    "tuple1=(0, 'one', 2.0, (3+0j), 'IV', 'cinq')\n",
    "list1[5]='vijf'\n",
    "print(list1)\n",
    "#can't append/give elements new values in tuples - immutable\n",
    "#lists are mutable\n",
    "\n",
    "#tuple[5]='vijf' --> ERROR"
   ]
  },
  {
   "cell_type": "markdown",
   "id": "13e93a5d",
   "metadata": {},
   "source": [
    "# the zip function"
   ]
  },
  {
   "cell_type": "code",
   "execution_count": 4,
   "id": "cce5fc91",
   "metadata": {},
   "outputs": [
    {
     "name": "stdout",
     "output_type": "stream",
     "text": [
      "<zip object at 0x00000203B7F3DCC0>\n",
      "[(0, 0), (1, 1), (2, 4), (3, 9), (4, 15), (5, 25)]\n"
     ]
    }
   ],
   "source": [
    "xvals = list(range(6))\n",
    "yvals = (0,1,4,9,15,25)\n",
    "combined = zip(xvals,yvals)\n",
    "print(combined) #lazy obj - contents not visible\n",
    "print(list(combined))"
   ]
  },
  {
   "cell_type": "markdown",
   "id": "993890c5",
   "metadata": {},
   "source": [
    "# random stuff - week 6 ps"
   ]
  },
  {
   "cell_type": "code",
   "execution_count": 8,
   "id": "8639dfc2",
   "metadata": {},
   "outputs": [
    {
     "name": "stdout",
     "output_type": "stream",
     "text": [
      "24.0\n"
     ]
    }
   ],
   "source": [
    "complex1=24+0j\n",
    "print(complex1.real)"
   ]
  },
  {
   "cell_type": "code",
   "execution_count": 13,
   "id": "5a9d6b75",
   "metadata": {},
   "outputs": [
    {
     "name": "stdout",
     "output_type": "stream",
     "text": [
      "3\n",
      "0\n",
      "1\n",
      "2.718281828459045\n"
     ]
    }
   ],
   "source": [
    "# true = 1. false = 0\n",
    "import math\n",
    "print(2 + True)\n",
    "print(5 * False)\n",
    "print(7 ** False)\n",
    "print(math.exp(True))"
   ]
  },
  {
   "cell_type": "markdown",
   "id": "8a4541c8",
   "metadata": {},
   "source": [
    "# Bitwise XOR"
   ]
  },
  {
   "cell_type": "code",
   "execution_count": 15,
   "id": "3e476874",
   "metadata": {},
   "outputs": [
    {
     "name": "stdout",
     "output_type": "stream",
     "text": [
      "1\n",
      "12\n"
     ]
    }
   ],
   "source": [
    "print(4 ^ 5)\n",
    "print(4 ^ 8)"
   ]
  },
  {
   "cell_type": "code",
   "execution_count": 1,
   "id": "352de82d",
   "metadata": {},
   "outputs": [],
   "source": [
    "#Bitwise XOR;\n",
    "#e.g. \n",
    "#4 = 100\n",
    "#5 = 101\n",
    "#4^5= 1\n",
    "\n",
    "#8= 1000\n",
    "#4^8=12"
   ]
  },
  {
   "cell_type": "code",
   "execution_count": 11,
   "id": "a93df463",
   "metadata": {},
   "outputs": [
    {
     "name": "stdout",
     "output_type": "stream",
     "text": [
      "brown dog fox jumps lazy over quick the the\n"
     ]
    }
   ],
   "source": [
    "string1= \"The quick brown fox jumps over the lazy dog\"\n",
    "split_string=(string1.lower()).split()\n",
    "sorted_string=sorted(split_string)\n",
    "string3= ' '.join(sorted_string)\n",
    "print(string3)"
   ]
  },
  {
   "cell_type": "code",
   "execution_count": 13,
   "id": "5da98023",
   "metadata": {},
   "outputs": [
    {
     "name": "stdout",
     "output_type": "stream",
     "text": [
      "The quick brown dog jumps over the lazy dog\n"
     ]
    }
   ],
   "source": [
    "string5 = string1.replace('fox', 'dog')\n",
    "print(string5)"
   ]
  },
  {
   "cell_type": "code",
   "execution_count": 17,
   "id": "dc5ba46b",
   "metadata": {},
   "outputs": [
    {
     "name": "stdout",
     "output_type": "stream",
     "text": [
      "[0j, 'uno', 2, 3.0, (4+0j), 'cinco', 6, 7.0, (8+0j), 'nueve', 10, 11.0, (12+0j), 'trece', 14, 15.0, (16+0j), 'diecisiete', 18, 19.0]\n"
     ]
    }
   ],
   "source": [
    "list1=[0+0j, 'one', 2, 3.0, 4+0j, 'five', 6, 7.0, 8+0j, 'nine', 10, 11.0, 12+0j, 'thirteen', 14, 15.0, 16+0j, 'seventeen', 18, 19.0]\n",
    "list1[1:18:4]=['uno', 'cinco', 'nueve', 'trece', 'diecisiete']\n",
    "print(list1)"
   ]
  },
  {
   "cell_type": "code",
   "execution_count": 18,
   "id": "d9d3a11b",
   "metadata": {},
   "outputs": [
    {
     "name": "stdout",
     "output_type": "stream",
     "text": [
      "three three was a race horse, two two was one too.\n"
     ]
    }
   ],
   "source": []
  },
  {
   "cell_type": "code",
   "execution_count": null,
   "id": "8a94944f",
   "metadata": {},
   "outputs": [],
   "source": []
  }
 ],
 "metadata": {
  "kernelspec": {
   "display_name": "Python 3 (ipykernel)",
   "language": "python",
   "name": "python3"
  },
  "language_info": {
   "codemirror_mode": {
    "name": "ipython",
    "version": 3
   },
   "file_extension": ".py",
   "mimetype": "text/x-python",
   "name": "python",
   "nbconvert_exporter": "python",
   "pygments_lexer": "ipython3",
   "version": "3.9.13"
  }
 },
 "nbformat": 4,
 "nbformat_minor": 5
}
